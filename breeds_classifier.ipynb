{
 "cells": [
  {
   "cell_type": "code",
   "execution_count": 5,
   "metadata": {},
   "outputs": [],
   "source": [
    "import torch\n",
    "import torchvision.models as models\n",
    "from torch.utils.data import Dataset\n",
    "import os\n",
    "import pandas as pd\n",
    "from torchvision.io import read_image\n",
    "from torchvision import transforms\n",
    "from torch.nn import CrossEntropyLoss\n",
    "import matplotlib.pyplot as plt\n",
    "from torch.utils.data import DataLoader, random_split\n",
    "import torch.nn as nn\n",
    "from PIL import Image\n",
    "from torchvision.transforms.functional import InterpolationMode\n",
    "import numpy as np"
   ]
  },
  {
   "cell_type": "code",
   "execution_count": 6,
   "metadata": {},
   "outputs": [],
   "source": [
    "class OxfordIIITPetDataset(Dataset):\n",
    "    @staticmethod\n",
    "    def extract_breed(name):\n",
    "        return ' '.join(name.split(\"_\")[:-1]).lower().title()\n",
    "\n",
    "    def __init__(self, img_dir, transform=None, transform_label=None):\n",
    "        self.img_dir = img_dir\n",
    "        self.image_names = [img_name for img_name in os.listdir(img_dir) if img_name.endswith('.jpg')]\n",
    "        self.transform = transform\n",
    "        self.transform_label = transform_label\n",
    "        self.labels = list(set([self.extract_breed(name) for name in self.image_names]))\n",
    "        self.labels_to_idx = {item: idx for idx, item in enumerate(self.labels)}\n",
    "\n",
    "    def __len__(self):\n",
    "        return len(self.image_names)\n",
    "\n",
    "    def __getitem__(self, idx):\n",
    "        image_name = self.image_names[idx]\n",
    "        img_path = os.path.join(self.img_dir, image_name)\n",
    "        image = Image.open(img_path).convert('RGB')\n",
    "        label = self.extract_breed(image_name)\n",
    "        label = self.labels_to_idx[label]\n",
    "        \n",
    "        if self.transform:\n",
    "            image = self.transform(image)\n",
    "        if self.transform_label:\n",
    "            label = self.transform_label(label)\n",
    "        return image, label"
   ]
  },
  {
   "cell_type": "code",
   "execution_count": 7,
   "metadata": {},
   "outputs": [],
   "source": [
    "transform = transforms.Compose([\n",
    "    transforms.Resize((256, 256), interpolation=InterpolationMode.BILINEAR),\n",
    "    transforms.CenterCrop((224, 224)), \n",
    "    transforms.RandomHorizontalFlip(p=0.2),\n",
    "    transforms.ColorJitter(brightness=0.3, contrast=0.3),\n",
    "    transforms.RandomRotation(degrees=20),\n",
    "    transforms.ToTensor(),\n",
    "    transforms.Normalize(mean=[0.485, 0.456, 0.406], std=[0.229, 0.224, 0.225])\n",
    "])"
   ]
  },
  {
   "cell_type": "code",
   "execution_count": 8,
   "metadata": {},
   "outputs": [],
   "source": [
    "dataset = OxfordIIITPetDataset(img_dir='./Dataset/images', transform=transform)\n",
    "\n",
    "train_dataset, test_dataset = random_split(dataset, [0.8, 0.2]) \n",
    "train_dl = DataLoader(train_dataset, batch_size=100, shuffle=True)\n",
    "test_dl = DataLoader(test_dataset, batch_size=10, shuffle=False)"
   ]
  },
  {
   "cell_type": "code",
   "execution_count": 9,
   "metadata": {},
   "outputs": [],
   "source": [
    "pretrained_model = models.resnet18(weights=\"IMAGENET1K_V1\")\n",
    "\n",
    "for parameter in pretrained_model.parameters():\n",
    "    parameter.requires_grad = False\n",
    "\n",
    "pretrained_model.fc = torch.nn.Linear(pretrained_model.fc.in_features, len(dataset.labels))\n",
    "\n",
    "optimizer = torch.optim.Adam(pretrained_model.parameters())"
   ]
  },
  {
   "cell_type": "code",
   "execution_count": 10,
   "metadata": {},
   "outputs": [],
   "source": [
    "def train_model(model: OxfordIIITPetDataset, train_loader: DataLoader, optimizer, epochs):\n",
    "    device = torch.device(\"cuda\" if torch.cuda.is_available() else \"cpu\")\n",
    "    model.to(device)\n",
    "\n",
    "    loss_func = nn.CrossEntropyLoss()\n",
    "    for epoch in range(epochs):  # loop over the dataset multiple times\n",
    "        model.train()\n",
    "\n",
    "        i = 0\n",
    "\n",
    "        running_loss = 0.0\n",
    "        for inputs, labels in train_loader:\n",
    "            inputs = inputs.to(device)\n",
    "            labels = labels.to(device)\n",
    "            \n",
    "            # zero the parameter gradients\n",
    "            optimizer.zero_grad()\n",
    "\n",
    "            # forward + backward + optimize\n",
    "            outputs = model(inputs)\n",
    "            loss = loss_func(outputs, labels)\n",
    "            loss.backward()\n",
    "            optimizer.step()\n",
    "\n",
    "            # print statistics\n",
    "            running_loss += loss.item()\n",
    "            i += train_loader.batch_size\n",
    "            if i % 2000 == 0:    # print every 2000 mini-batches\n",
    "                print(f'[{epoch + 1}, {i + 1:5d}] loss: {running_loss / 2000:.3f}')\n",
    "                running_loss = 0.0\n",
    "\n",
    "    print('Finished Training')"
   ]
  },
  {
   "cell_type": "code",
   "execution_count": 11,
   "metadata": {},
   "outputs": [
    {
     "name": "stdout",
     "output_type": "stream",
     "text": [
      "[1,  2001] loss: 0.031\n",
      "[1,  4001] loss: 0.021\n",
      "[1,  6001] loss: 0.015\n",
      "[2,  2001] loss: 0.011\n",
      "[2,  4001] loss: 0.009\n",
      "[2,  6001] loss: 0.009\n",
      "[3,  2001] loss: 0.008\n",
      "[3,  4001] loss: 0.007\n",
      "[3,  6001] loss: 0.007\n",
      "Finished Training\n"
     ]
    }
   ],
   "source": [
    "train_model(pretrained_model, train_dl, optimizer, epochs=3)"
   ]
  },
  {
   "cell_type": "code",
   "execution_count": 12,
   "metadata": {},
   "outputs": [],
   "source": [
    "def test_accuracy(model: OxfordIIITPetDataset, test_loader: DataLoader):\n",
    "    device = torch.device(\"cuda\" if torch.cuda.is_available() else \"cpu\")\n",
    "    correct = 0\n",
    "    total = 0\n",
    "    model.eval()\n",
    "\n",
    "    with torch.no_grad():\n",
    "        for inputs, labels in test_loader:\n",
    "            inputs = inputs.to(device)  # Move inputs to device (CPU or GPU)\n",
    "            labels = labels.to(device)  # Move labels to device (CPU or GPU)\n",
    "            \n",
    "            # Forward pass\n",
    "            outputs = model(inputs)\n",
    "            \n",
    "            # Get predictions\n",
    "            _, predicted = torch.max(outputs, 1)\n",
    "            \n",
    "            # Update counts\n",
    "            total += labels.size(0)\n",
    "            correct += (predicted == labels).sum().item()\n",
    "    \n",
    "    # Calculate accuracy\n",
    "    accuracy = correct / total\n",
    "    \n",
    "    return accuracy"
   ]
  },
  {
   "cell_type": "code",
   "execution_count": 13,
   "metadata": {},
   "outputs": [
    {
     "data": {
      "text/plain": [
       "0.8328822733423545"
      ]
     },
     "execution_count": 13,
     "metadata": {},
     "output_type": "execute_result"
    }
   ],
   "source": [
    "test_accuracy(pretrained_model, test_dl)"
   ]
  }
 ],
 "metadata": {
  "kernelspec": {
   "display_name": ".venv",
   "language": "python",
   "name": "python3"
  },
  "language_info": {
   "codemirror_mode": {
    "name": "ipython",
    "version": 3
   },
   "file_extension": ".py",
   "mimetype": "text/x-python",
   "name": "python",
   "nbconvert_exporter": "python",
   "pygments_lexer": "ipython3",
   "version": "3.10.12"
  }
 },
 "nbformat": 4,
 "nbformat_minor": 2
}
